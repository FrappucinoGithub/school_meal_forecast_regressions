{
 "cells": [
  {
   "cell_type": "code",
   "execution_count": 1,
   "metadata": {
    "ExecuteTime": {
     "end_time": "2021-01-31T17:23:21.599622Z",
     "start_time": "2021-01-31T17:23:12.426806Z"
    }
   },
   "outputs": [],
   "source": [
    "import pandas as pd\n",
    "import numpy as np\n",
    "import matplotlib.pyplot as plt\n",
    "import seaborn as sns\n",
    "import datetime\n",
    "import os\n",
    "\n",
    "%matplotlib inline\n",
    "\n",
    "pd.set_option('display.max_columns', 600)\n",
    "pd.set_option('display.max_rows', 600)"
   ]
  },
  {
   "cell_type": "markdown",
   "metadata": {},
   "source": [
    "# 1. Etude des résultats en période normale"
   ]
  },
  {
   "cell_type": "code",
   "execution_count": 12,
   "metadata": {
    "ExecuteTime": {
     "end_time": "2021-01-31T17:24:29.686946Z",
     "start_time": "2021-01-31T17:24:29.650478Z"
    }
   },
   "outputs": [
    {
     "name": "stdout",
     "output_type": "stream",
     "text": [
      "(131, 22)\n"
     ]
    },
    {
     "data": {
      "text/html": [
       "<div>\n",
       "<style scoped>\n",
       "    .dataframe tbody tr th:only-of-type {\n",
       "        vertical-align: middle;\n",
       "    }\n",
       "\n",
       "    .dataframe tbody tr th {\n",
       "        vertical-align: top;\n",
       "    }\n",
       "\n",
       "    .dataframe thead th {\n",
       "        text-align: right;\n",
       "    }\n",
       "</style>\n",
       "<table border=\"1\" class=\"dataframe\">\n",
       "  <thead>\n",
       "    <tr style=\"text-align: right;\">\n",
       "      <th></th>\n",
       "      <th>month_2</th>\n",
       "      <th>month_3</th>\n",
       "      <th>month_4</th>\n",
       "      <th>month_5</th>\n",
       "      <th>month_6</th>\n",
       "      <th>month_7</th>\n",
       "      <th>month_9</th>\n",
       "      <th>month_10</th>\n",
       "      <th>month_11</th>\n",
       "      <th>month_12</th>\n",
       "      <th>effectif</th>\n",
       "      <th>repas_noel</th>\n",
       "      <th>poisson</th>\n",
       "      <th>viande</th>\n",
       "      <th>4_derniers_jours</th>\n",
       "      <th>pred_upper</th>\n",
       "      <th>prevision</th>\n",
       "      <th>reel</th>\n",
       "      <th>pred</th>\n",
       "      <th>gaspillage</th>\n",
       "      <th>gaspi_pred</th>\n",
       "      <th>gaspi_pred_upper</th>\n",
       "    </tr>\n",
       "    <tr>\n",
       "      <th>date</th>\n",
       "      <th></th>\n",
       "      <th></th>\n",
       "      <th></th>\n",
       "      <th></th>\n",
       "      <th></th>\n",
       "      <th></th>\n",
       "      <th></th>\n",
       "      <th></th>\n",
       "      <th></th>\n",
       "      <th></th>\n",
       "      <th></th>\n",
       "      <th></th>\n",
       "      <th></th>\n",
       "      <th></th>\n",
       "      <th></th>\n",
       "      <th></th>\n",
       "      <th></th>\n",
       "      <th></th>\n",
       "      <th></th>\n",
       "      <th></th>\n",
       "      <th></th>\n",
       "      <th></th>\n",
       "    </tr>\n",
       "  </thead>\n",
       "  <tbody>\n",
       "    <tr>\n",
       "      <th>2018-09-03</th>\n",
       "      <td>0.0</td>\n",
       "      <td>0.0</td>\n",
       "      <td>0.0</td>\n",
       "      <td>0.0</td>\n",
       "      <td>0.0</td>\n",
       "      <td>0.0</td>\n",
       "      <td>20344.0</td>\n",
       "      <td>0.0</td>\n",
       "      <td>0.0</td>\n",
       "      <td>0.0</td>\n",
       "      <td>20344.0</td>\n",
       "      <td>0.0</td>\n",
       "      <td>0.0</td>\n",
       "      <td>20344.0</td>\n",
       "      <td>0.0</td>\n",
       "      <td>14628.913573</td>\n",
       "      <td>12780.0</td>\n",
       "      <td>11471.0</td>\n",
       "      <td>14131.333342</td>\n",
       "      <td>0.102426</td>\n",
       "      <td>0.188258</td>\n",
       "      <td>0.215868</td>\n",
       "    </tr>\n",
       "    <tr>\n",
       "      <th>2018-09-04</th>\n",
       "      <td>0.0</td>\n",
       "      <td>0.0</td>\n",
       "      <td>0.0</td>\n",
       "      <td>0.0</td>\n",
       "      <td>0.0</td>\n",
       "      <td>0.0</td>\n",
       "      <td>20344.0</td>\n",
       "      <td>0.0</td>\n",
       "      <td>0.0</td>\n",
       "      <td>0.0</td>\n",
       "      <td>20344.0</td>\n",
       "      <td>0.0</td>\n",
       "      <td>0.0</td>\n",
       "      <td>0.0</td>\n",
       "      <td>0.0</td>\n",
       "      <td>15378.749299</td>\n",
       "      <td>14582.0</td>\n",
       "      <td>14070.0</td>\n",
       "      <td>14880.296420</td>\n",
       "      <td>0.035112</td>\n",
       "      <td>0.054454</td>\n",
       "      <td>0.085101</td>\n",
       "    </tr>\n",
       "    <tr>\n",
       "      <th>2018-09-06</th>\n",
       "      <td>0.0</td>\n",
       "      <td>0.0</td>\n",
       "      <td>0.0</td>\n",
       "      <td>0.0</td>\n",
       "      <td>0.0</td>\n",
       "      <td>0.0</td>\n",
       "      <td>20344.0</td>\n",
       "      <td>0.0</td>\n",
       "      <td>0.0</td>\n",
       "      <td>0.0</td>\n",
       "      <td>20344.0</td>\n",
       "      <td>0.0</td>\n",
       "      <td>0.0</td>\n",
       "      <td>20344.0</td>\n",
       "      <td>0.0</td>\n",
       "      <td>14628.913573</td>\n",
       "      <td>14553.0</td>\n",
       "      <td>14261.0</td>\n",
       "      <td>14131.333342</td>\n",
       "      <td>0.020065</td>\n",
       "      <td>-0.009176</td>\n",
       "      <td>0.025150</td>\n",
       "    </tr>\n",
       "    <tr>\n",
       "      <th>2018-09-07</th>\n",
       "      <td>0.0</td>\n",
       "      <td>0.0</td>\n",
       "      <td>0.0</td>\n",
       "      <td>0.0</td>\n",
       "      <td>0.0</td>\n",
       "      <td>0.0</td>\n",
       "      <td>20344.0</td>\n",
       "      <td>0.0</td>\n",
       "      <td>0.0</td>\n",
       "      <td>0.0</td>\n",
       "      <td>20344.0</td>\n",
       "      <td>0.0</td>\n",
       "      <td>0.0</td>\n",
       "      <td>0.0</td>\n",
       "      <td>0.0</td>\n",
       "      <td>15378.749299</td>\n",
       "      <td>15206.0</td>\n",
       "      <td>14930.0</td>\n",
       "      <td>14880.296420</td>\n",
       "      <td>0.018151</td>\n",
       "      <td>-0.003340</td>\n",
       "      <td>0.029180</td>\n",
       "    </tr>\n",
       "    <tr>\n",
       "      <th>2018-09-10</th>\n",
       "      <td>0.0</td>\n",
       "      <td>0.0</td>\n",
       "      <td>0.0</td>\n",
       "      <td>0.0</td>\n",
       "      <td>0.0</td>\n",
       "      <td>0.0</td>\n",
       "      <td>20344.0</td>\n",
       "      <td>0.0</td>\n",
       "      <td>0.0</td>\n",
       "      <td>0.0</td>\n",
       "      <td>20344.0</td>\n",
       "      <td>0.0</td>\n",
       "      <td>0.0</td>\n",
       "      <td>20344.0</td>\n",
       "      <td>0.0</td>\n",
       "      <td>14628.913573</td>\n",
       "      <td>14344.0</td>\n",
       "      <td>14015.0</td>\n",
       "      <td>14131.333342</td>\n",
       "      <td>0.022936</td>\n",
       "      <td>0.008232</td>\n",
       "      <td>0.041966</td>\n",
       "    </tr>\n",
       "  </tbody>\n",
       "</table>\n",
       "</div>"
      ],
      "text/plain": [
       "            month_2  month_3  month_4  month_5  month_6  month_7  month_9  \\\n",
       "date                                                                        \n",
       "2018-09-03      0.0      0.0      0.0      0.0      0.0      0.0  20344.0   \n",
       "2018-09-04      0.0      0.0      0.0      0.0      0.0      0.0  20344.0   \n",
       "2018-09-06      0.0      0.0      0.0      0.0      0.0      0.0  20344.0   \n",
       "2018-09-07      0.0      0.0      0.0      0.0      0.0      0.0  20344.0   \n",
       "2018-09-10      0.0      0.0      0.0      0.0      0.0      0.0  20344.0   \n",
       "\n",
       "            month_10  month_11  month_12  effectif  repas_noel  poisson  \\\n",
       "date                                                                      \n",
       "2018-09-03       0.0       0.0       0.0   20344.0         0.0      0.0   \n",
       "2018-09-04       0.0       0.0       0.0   20344.0         0.0      0.0   \n",
       "2018-09-06       0.0       0.0       0.0   20344.0         0.0      0.0   \n",
       "2018-09-07       0.0       0.0       0.0   20344.0         0.0      0.0   \n",
       "2018-09-10       0.0       0.0       0.0   20344.0         0.0      0.0   \n",
       "\n",
       "             viande  4_derniers_jours    pred_upper  prevision     reel  \\\n",
       "date                                                                      \n",
       "2018-09-03  20344.0               0.0  14628.913573    12780.0  11471.0   \n",
       "2018-09-04      0.0               0.0  15378.749299    14582.0  14070.0   \n",
       "2018-09-06  20344.0               0.0  14628.913573    14553.0  14261.0   \n",
       "2018-09-07      0.0               0.0  15378.749299    15206.0  14930.0   \n",
       "2018-09-10  20344.0               0.0  14628.913573    14344.0  14015.0   \n",
       "\n",
       "                    pred  gaspillage  gaspi_pred  gaspi_pred_upper  \n",
       "date                                                                \n",
       "2018-09-03  14131.333342    0.102426    0.188258          0.215868  \n",
       "2018-09-04  14880.296420    0.035112    0.054454          0.085101  \n",
       "2018-09-06  14131.333342    0.020065   -0.009176          0.025150  \n",
       "2018-09-07  14880.296420    0.018151   -0.003340          0.029180  \n",
       "2018-09-10  14131.333342    0.022936    0.008232          0.041966  "
      ]
     },
     "execution_count": 12,
     "metadata": {},
     "output_type": "execute_result"
    }
   ],
   "source": [
    "df_global = pd.read_pickle(\"../results/general/x_pred_global_1.64_0.8.pk\")\n",
    "\n",
    "#df_global[\"gaspi_pred\"]= (df_global[\"pred\"] - df_global[\"reel\"])/df_global[\"pred\"]\n",
    "print(df_global.shape)\n",
    "df_global.head()\n"
   ]
  },
  {
   "cell_type": "code",
   "execution_count": 13,
   "metadata": {
    "ExecuteTime": {
     "end_time": "2021-01-31T17:24:30.921577Z",
     "start_time": "2021-01-31T17:24:30.565270Z"
    }
   },
   "outputs": [
    {
     "data": {
      "image/png": "[encoded data removed]",
      "text/plain": [
       "<Figure size 1152x648 with 1 Axes>"
      ]
     },
     "metadata": {
      "needs_background": "light"
     },
     "output_type": "display_data"
    }
   ],
   "source": [
    "y_pred = df_global[\"pred\"]\n",
    "y_true = df_global[\"reel\"]\n",
    "\n",
    "\n",
    "plt.figure(figsize=(16,9))\n",
    "y_true.plot(label=\"fréquentation réelle\")\n",
    "y_pred.plot(label=\"fréquentation estimée\")\n",
    "\n",
    "\n",
    "plt.title(\"Estimation de la fréquentation sur l'année scolaire 2018-2019\", fontsize=15)\n",
    "plt.ylabel(\"Fréquentation (en nombre de personnes)\", fontsize=15)\n",
    "plt.xlabel(\"Date\", fontsize=15)\n",
    "plt.show()"
   ]
  },
  {
   "cell_type": "code",
   "execution_count": 14,
   "metadata": {
    "ExecuteTime": {
     "end_time": "2021-01-31T17:24:31.575282Z",
     "start_time": "2021-01-31T17:24:31.159130Z"
    }
   },
   "outputs": [
    {
     "data": {
      "text/plain": [
       "<matplotlib.legend.Legend at 0x12d733280>"
      ]
     },
     "execution_count": 14,
     "metadata": {},
     "output_type": "execute_result"
    },
    {
     "data": {
      "image/png": "[encoded data removed]",
      "text/plain": [
       "<Figure size 864x576 with 1 Axes>"
      ]
     },
     "metadata": {
      "needs_background": "light"
     },
     "output_type": "display_data"
    }
   ],
   "source": [
    "plt.figure(figsize=(12, 8))\n",
    "plt.scatter(df_global.index, df_global.gaspillage.values*100, label=\"gaspillage réel\", color=\"blue\")\n",
    "plt.axhline(df_global.gaspillage.mean()*100, color=\"blue\")\n",
    "plt.scatter(df_global.index, df_global.gaspi_pred.values*100, label=\"gaspillage simulé\",color=\"orange\")\n",
    "plt.axhline(df_global.gaspi_pred.mean()*100,color=\"orange\")\n",
    "\n",
    "plt.title(\"Gaspillage simulé et réel pour l'année scolaire 2018-2019\", fontsize=15)\n",
    "plt.ylabel(\"Gaspillage (en %)\", fontsize=15)\n",
    "plt.xlabel(\"Date\", fontsize=15)\n",
    "plt.legend(fontsize=15)"
   ]
  },
  {
   "cell_type": "code",
   "execution_count": 15,
   "metadata": {
    "ExecuteTime": {
     "end_time": "2021-01-31T17:24:31.672150Z",
     "start_time": "2021-01-31T17:24:31.663064Z"
    }
   },
   "outputs": [
    {
     "name": "stdout",
     "output_type": "stream",
     "text": [
      "gaspillage réel 0.08727683823040823\n",
      "gaspillage avec nos prédictions 0.03546164464337167\n",
      "--------------------------------------------\n",
      "1 jours réels avec un manque de repas\n",
      "58 jours estimés pour lesquels il y aurait eu un manque de repas\n"
     ]
    }
   ],
   "source": [
    "print(\"gaspillage réel\",df_global.gaspillage.mean())\n",
    "print(\"gaspillage avec nos prédictions\",df_global.gaspi_pred.mean())\n",
    "print(\"--------------------------------------------\")\n",
    "print(len(df_global[df_global.gaspillage<0]), \"jours réels avec un manque de repas\")\n",
    "print(len(df_global[df_global.gaspi_pred<0]), \"jours estimés pour lesquels il y aurait eu un manque de repas\")"
   ]
  },
  {
   "cell_type": "code",
   "execution_count": 16,
   "metadata": {
    "ExecuteTime": {
     "end_time": "2021-01-31T17:24:32.724771Z",
     "start_time": "2021-01-31T17:24:32.227442Z"
    }
   },
   "outputs": [
    {
     "data": {
      "text/plain": [
       "<matplotlib.legend.Legend at 0x12d7b9b50>"
      ]
     },
     "execution_count": 16,
     "metadata": {},
     "output_type": "execute_result"
    },
    {
     "data": {
      "image/png": "[encoded data removed]",
      "text/plain": [
       "<Figure size 864x576 with 1 Axes>"
      ]
     },
     "metadata": {
      "needs_background": "light"
     },
     "output_type": "display_data"
    }
   ],
   "source": [
    "plt.figure(figsize=(12, 8))\n",
    "plt.scatter(df_global.index, df_global.gaspillage.values*100, label=\"gaspillage réel\", color=\"blue\")\n",
    "plt.axhline(df_global.gaspillage.mean()*100, color=\"blue\")\n",
    "plt.scatter(df_global.index, df_global.gaspi_pred_upper.values*100, label=\"gaspillage simulé\",color=\"orange\")\n",
    "plt.axhline(df_global.gaspi_pred_upper.mean()*100,color=\"orange\")\n",
    "\n",
    "plt.title(\"Gaspillage simulé et réel pour l'année scolaire 2018-2019\", fontsize=15)\n",
    "plt.ylabel(\"Gaspillage (en %)\", fontsize=15)\n",
    "plt.xlabel(\"Date\", fontsize=15)\n",
    "plt.legend(fontsize=15)"
   ]
  },
  {
   "cell_type": "code",
   "execution_count": 17,
   "metadata": {
    "ExecuteTime": {
     "end_time": "2021-01-31T17:24:32.859410Z",
     "start_time": "2021-01-31T17:24:32.831790Z"
    }
   },
   "outputs": [
    {
     "data": {
      "text/html": [
       "<div>\n",
       "<style scoped>\n",
       "    .dataframe tbody tr th:only-of-type {\n",
       "        vertical-align: middle;\n",
       "    }\n",
       "\n",
       "    .dataframe tbody tr th {\n",
       "        vertical-align: top;\n",
       "    }\n",
       "\n",
       "    .dataframe thead th {\n",
       "        text-align: right;\n",
       "    }\n",
       "</style>\n",
       "<table border=\"1\" class=\"dataframe\">\n",
       "  <thead>\n",
       "    <tr style=\"text-align: right;\">\n",
       "      <th></th>\n",
       "      <th>month_2</th>\n",
       "      <th>month_3</th>\n",
       "      <th>month_4</th>\n",
       "      <th>month_5</th>\n",
       "      <th>month_6</th>\n",
       "      <th>month_7</th>\n",
       "      <th>month_9</th>\n",
       "      <th>month_10</th>\n",
       "      <th>month_11</th>\n",
       "      <th>month_12</th>\n",
       "      <th>effectif</th>\n",
       "      <th>repas_noel</th>\n",
       "      <th>poisson</th>\n",
       "      <th>viande</th>\n",
       "      <th>4_derniers_jours</th>\n",
       "      <th>pred_upper</th>\n",
       "      <th>prevision</th>\n",
       "      <th>reel</th>\n",
       "      <th>pred</th>\n",
       "      <th>gaspillage</th>\n",
       "      <th>gaspi_pred</th>\n",
       "      <th>gaspi_pred_upper</th>\n",
       "    </tr>\n",
       "    <tr>\n",
       "      <th>date</th>\n",
       "      <th></th>\n",
       "      <th></th>\n",
       "      <th></th>\n",
       "      <th></th>\n",
       "      <th></th>\n",
       "      <th></th>\n",
       "      <th></th>\n",
       "      <th></th>\n",
       "      <th></th>\n",
       "      <th></th>\n",
       "      <th></th>\n",
       "      <th></th>\n",
       "      <th></th>\n",
       "      <th></th>\n",
       "      <th></th>\n",
       "      <th></th>\n",
       "      <th></th>\n",
       "      <th></th>\n",
       "      <th></th>\n",
       "      <th></th>\n",
       "      <th></th>\n",
       "      <th></th>\n",
       "    </tr>\n",
       "  </thead>\n",
       "  <tbody>\n",
       "    <tr>\n",
       "      <th>2018-09-03</th>\n",
       "      <td>0.0</td>\n",
       "      <td>0.0</td>\n",
       "      <td>0.0</td>\n",
       "      <td>0.0</td>\n",
       "      <td>0.0</td>\n",
       "      <td>0.0</td>\n",
       "      <td>20344.0</td>\n",
       "      <td>0.0</td>\n",
       "      <td>0.0</td>\n",
       "      <td>0.0</td>\n",
       "      <td>20344.0</td>\n",
       "      <td>0.0</td>\n",
       "      <td>0.0</td>\n",
       "      <td>20344.0</td>\n",
       "      <td>0.0</td>\n",
       "      <td>14628.913573</td>\n",
       "      <td>12780.0</td>\n",
       "      <td>11471.0</td>\n",
       "      <td>14131.333342</td>\n",
       "      <td>0.102426</td>\n",
       "      <td>0.188258</td>\n",
       "      <td>0.215868</td>\n",
       "    </tr>\n",
       "    <tr>\n",
       "      <th>2018-09-04</th>\n",
       "      <td>0.0</td>\n",
       "      <td>0.0</td>\n",
       "      <td>0.0</td>\n",
       "      <td>0.0</td>\n",
       "      <td>0.0</td>\n",
       "      <td>0.0</td>\n",
       "      <td>20344.0</td>\n",
       "      <td>0.0</td>\n",
       "      <td>0.0</td>\n",
       "      <td>0.0</td>\n",
       "      <td>20344.0</td>\n",
       "      <td>0.0</td>\n",
       "      <td>0.0</td>\n",
       "      <td>0.0</td>\n",
       "      <td>0.0</td>\n",
       "      <td>15378.749299</td>\n",
       "      <td>14582.0</td>\n",
       "      <td>14070.0</td>\n",
       "      <td>14880.296420</td>\n",
       "      <td>0.035112</td>\n",
       "      <td>0.054454</td>\n",
       "      <td>0.085101</td>\n",
       "    </tr>\n",
       "    <tr>\n",
       "      <th>2018-09-06</th>\n",
       "      <td>0.0</td>\n",
       "      <td>0.0</td>\n",
       "      <td>0.0</td>\n",
       "      <td>0.0</td>\n",
       "      <td>0.0</td>\n",
       "      <td>0.0</td>\n",
       "      <td>20344.0</td>\n",
       "      <td>0.0</td>\n",
       "      <td>0.0</td>\n",
       "      <td>0.0</td>\n",
       "      <td>20344.0</td>\n",
       "      <td>0.0</td>\n",
       "      <td>0.0</td>\n",
       "      <td>20344.0</td>\n",
       "      <td>0.0</td>\n",
       "      <td>14628.913573</td>\n",
       "      <td>14553.0</td>\n",
       "      <td>14261.0</td>\n",
       "      <td>14131.333342</td>\n",
       "      <td>0.020065</td>\n",
       "      <td>-0.009176</td>\n",
       "      <td>0.025150</td>\n",
       "    </tr>\n",
       "    <tr>\n",
       "      <th>2018-09-07</th>\n",
       "      <td>0.0</td>\n",
       "      <td>0.0</td>\n",
       "      <td>0.0</td>\n",
       "      <td>0.0</td>\n",
       "      <td>0.0</td>\n",
       "      <td>0.0</td>\n",
       "      <td>20344.0</td>\n",
       "      <td>0.0</td>\n",
       "      <td>0.0</td>\n",
       "      <td>0.0</td>\n",
       "      <td>20344.0</td>\n",
       "      <td>0.0</td>\n",
       "      <td>0.0</td>\n",
       "      <td>0.0</td>\n",
       "      <td>0.0</td>\n",
       "      <td>15378.749299</td>\n",
       "      <td>15206.0</td>\n",
       "      <td>14930.0</td>\n",
       "      <td>14880.296420</td>\n",
       "      <td>0.018151</td>\n",
       "      <td>-0.003340</td>\n",
       "      <td>0.029180</td>\n",
       "    </tr>\n",
       "    <tr>\n",
       "      <th>2018-09-10</th>\n",
       "      <td>0.0</td>\n",
       "      <td>0.0</td>\n",
       "      <td>0.0</td>\n",
       "      <td>0.0</td>\n",
       "      <td>0.0</td>\n",
       "      <td>0.0</td>\n",
       "      <td>20344.0</td>\n",
       "      <td>0.0</td>\n",
       "      <td>0.0</td>\n",
       "      <td>0.0</td>\n",
       "      <td>20344.0</td>\n",
       "      <td>0.0</td>\n",
       "      <td>0.0</td>\n",
       "      <td>20344.0</td>\n",
       "      <td>0.0</td>\n",
       "      <td>14628.913573</td>\n",
       "      <td>14344.0</td>\n",
       "      <td>14015.0</td>\n",
       "      <td>14131.333342</td>\n",
       "      <td>0.022936</td>\n",
       "      <td>0.008232</td>\n",
       "      <td>0.041966</td>\n",
       "    </tr>\n",
       "  </tbody>\n",
       "</table>\n",
       "</div>"
      ],
      "text/plain": [
       "            month_2  month_3  month_4  month_5  month_6  month_7  month_9  \\\n",
       "date                                                                        \n",
       "2018-09-03      0.0      0.0      0.0      0.0      0.0      0.0  20344.0   \n",
       "2018-09-04      0.0      0.0      0.0      0.0      0.0      0.0  20344.0   \n",
       "2018-09-06      0.0      0.0      0.0      0.0      0.0      0.0  20344.0   \n",
       "2018-09-07      0.0      0.0      0.0      0.0      0.0      0.0  20344.0   \n",
       "2018-09-10      0.0      0.0      0.0      0.0      0.0      0.0  20344.0   \n",
       "\n",
       "            month_10  month_11  month_12  effectif  repas_noel  poisson  \\\n",
       "date                                                                      \n",
       "2018-09-03       0.0       0.0       0.0   20344.0         0.0      0.0   \n",
       "2018-09-04       0.0       0.0       0.0   20344.0         0.0      0.0   \n",
       "2018-09-06       0.0       0.0       0.0   20344.0         0.0      0.0   \n",
       "2018-09-07       0.0       0.0       0.0   20344.0         0.0      0.0   \n",
       "2018-09-10       0.0       0.0       0.0   20344.0         0.0      0.0   \n",
       "\n",
       "             viande  4_derniers_jours    pred_upper  prevision     reel  \\\n",
       "date                                                                      \n",
       "2018-09-03  20344.0               0.0  14628.913573    12780.0  11471.0   \n",
       "2018-09-04      0.0               0.0  15378.749299    14582.0  14070.0   \n",
       "2018-09-06  20344.0               0.0  14628.913573    14553.0  14261.0   \n",
       "2018-09-07      0.0               0.0  15378.749299    15206.0  14930.0   \n",
       "2018-09-10  20344.0               0.0  14628.913573    14344.0  14015.0   \n",
       "\n",
       "                    pred  gaspillage  gaspi_pred  gaspi_pred_upper  \n",
       "date                                                                \n",
       "2018-09-03  14131.333342    0.102426    0.188258          0.215868  \n",
       "2018-09-04  14880.296420    0.035112    0.054454          0.085101  \n",
       "2018-09-06  14131.333342    0.020065   -0.009176          0.025150  \n",
       "2018-09-07  14880.296420    0.018151   -0.003340          0.029180  \n",
       "2018-09-10  14131.333342    0.022936    0.008232          0.041966  "
      ]
     },
     "execution_count": 17,
     "metadata": {},
     "output_type": "execute_result"
    }
   ],
   "source": [
    "df_global.head()"
   ]
  },
  {
   "cell_type": "code",
   "execution_count": 18,
   "metadata": {
    "ExecuteTime": {
     "end_time": "2021-01-31T17:24:33.923263Z",
     "start_time": "2021-01-31T17:24:33.893017Z"
    }
   },
   "outputs": [
    {
     "name": "stdout",
     "output_type": "stream",
     "text": [
      "gaspillage moyen réel sur l'année (en nb de repas par jour) 1349.3435114503816\n",
      "gaspillage réel sur l'année (en pourcentage) 0.08775969599569453\n",
      "--------------------------------------------\n",
      "gaspillage avec nos prédictions en nb de repas 1021.5813309274123\n",
      "gaspillage avec nos prédictions (en pourcentage) 0.06788965545765314\n",
      "--------------------------------------------\n",
      "1 jours réels avec un manque de repas\n",
      "4 jours estimés pour lesquels il y aurait eu un manque de repas\n"
     ]
    }
   ],
   "source": [
    "print(\"gaspillage moyen réel sur l'année (en nb de repas par jour)\",(df_global.prevision.sum() - df_global.reel.sum())/len(df_global))\n",
    "print(\"gaspillage réel sur l'année (en pourcentage)\",(df_global.prevision.sum() - df_global.reel.sum())/df_global.prevision.sum())\n",
    "\n",
    "\n",
    "print(\"--------------------------------------------\")\n",
    "print(\"gaspillage avec nos prédictions en nb de repas\",(df_global.pred_upper.sum() - df_global.reel.sum())/len(df_global))\n",
    "print(\"gaspillage avec nos prédictions (en pourcentage)\",(df_global.pred_upper.sum() - df_global.reel.sum())/df_global.pred_upper.sum())\n",
    "\n",
    "\n",
    "print(\"--------------------------------------------\")\n",
    "print(len(df_global[df_global.gaspillage<0]), \"jours réels avec un manque de repas\")\n",
    "print(len(df_global[df_global.gaspi_pred_upper<0]), \"jours estimés pour lesquels il y aurait eu un manque de repas\")"
   ]
  },
  {
   "cell_type": "code",
   "execution_count": 19,
   "metadata": {
    "ExecuteTime": {
     "end_time": "2021-01-31T17:24:36.465139Z",
     "start_time": "2021-01-31T17:24:36.454331Z"
    }
   },
   "outputs": [
    {
     "data": {
      "text/plain": [
       "-107.1348406745492"
      ]
     },
     "execution_count": 19,
     "metadata": {},
     "output_type": "execute_result"
    }
   ],
   "source": [
    "min(df_global[df_global.gaspi_pred_upper<0].pred_upper - df_global[df_global.gaspi_pred_upper<0].reel)"
   ]
  },
  {
   "cell_type": "code",
   "execution_count": 20,
   "metadata": {
    "ExecuteTime": {
     "end_time": "2021-01-31T17:24:37.483585Z",
     "start_time": "2021-01-31T17:24:37.472405Z"
    }
   },
   "outputs": [
    {
     "data": {
      "text/plain": [
       "date\n",
       "2018-12-13    -33.227365\n",
       "2019-02-26   -107.134841\n",
       "2019-06-14    -57.936847\n",
       "2019-07-05    -71.614684\n",
       "dtype: float64"
      ]
     },
     "execution_count": 20,
     "metadata": {},
     "output_type": "execute_result"
    }
   ],
   "source": [
    "df_global[df_global.gaspi_pred_upper<0].pred_upper - df_global[df_global.gaspi_pred_upper<0].reel"
   ]
  },
  {
   "cell_type": "code",
   "execution_count": null,
   "metadata": {
    "ExecuteTime": {
     "end_time": "2021-01-31T17:23:23.511887Z",
     "start_time": "2021-01-31T17:23:16.972Z"
    }
   },
   "outputs": [],
   "source": [
    "(8.77 - 6.19)/8.77"
   ]
  },
  {
   "cell_type": "code",
   "execution_count": null,
   "metadata": {},
   "outputs": [],
   "source": []
  },
  {
   "cell_type": "code",
   "execution_count": null,
   "metadata": {},
   "outputs": [],
   "source": []
  },
  {
   "cell_type": "code",
   "execution_count": null,
   "metadata": {},
   "outputs": [],
   "source": []
  },
  {
   "cell_type": "code",
   "execution_count": null,
   "metadata": {},
   "outputs": [],
   "source": []
  },
  {
   "cell_type": "code",
   "execution_count": null,
   "metadata": {},
   "outputs": [],
   "source": []
  },
  {
   "cell_type": "code",
   "execution_count": null,
   "metadata": {},
   "outputs": [],
   "source": []
  },
  {
   "cell_type": "code",
   "execution_count": null,
   "metadata": {},
   "outputs": [],
   "source": []
  },
  {
   "cell_type": "code",
   "execution_count": null,
   "metadata": {},
   "outputs": [],
   "source": []
  },
  {
   "cell_type": "code",
   "execution_count": null,
   "metadata": {},
   "outputs": [],
   "source": []
  },
  {
   "cell_type": "code",
   "execution_count": null,
   "metadata": {},
   "outputs": [],
   "source": []
  },
  {
   "cell_type": "code",
   "execution_count": null,
   "metadata": {},
   "outputs": [],
   "source": []
  },
  {
   "cell_type": "code",
   "execution_count": null,
   "metadata": {},
   "outputs": [],
   "source": []
  },
  {
   "cell_type": "code",
   "execution_count": null,
   "metadata": {},
   "outputs": [],
   "source": []
  },
  {
   "cell_type": "code",
   "execution_count": null,
   "metadata": {},
   "outputs": [],
   "source": []
  },
  {
   "cell_type": "code",
   "execution_count": null,
   "metadata": {},
   "outputs": [],
   "source": []
  },
  {
   "cell_type": "code",
   "execution_count": null,
   "metadata": {},
   "outputs": [],
   "source": []
  },
  {
   "cell_type": "code",
   "execution_count": null,
   "metadata": {},
   "outputs": [],
   "source": []
  },
  {
   "cell_type": "code",
   "execution_count": null,
   "metadata": {},
   "outputs": [],
   "source": []
  },
  {
   "cell_type": "code",
   "execution_count": null,
   "metadata": {},
   "outputs": [],
   "source": []
  },
  {
   "cell_type": "code",
   "execution_count": null,
   "metadata": {},
   "outputs": [],
   "source": []
  },
  {
   "cell_type": "code",
   "execution_count": null,
   "metadata": {},
   "outputs": [],
   "source": []
  },
  {
   "cell_type": "code",
   "execution_count": null,
   "metadata": {},
   "outputs": [],
   "source": []
  },
  {
   "cell_type": "code",
   "execution_count": null,
   "metadata": {},
   "outputs": [],
   "source": []
  },
  {
   "cell_type": "code",
   "execution_count": null,
   "metadata": {},
   "outputs": [],
   "source": []
  },
  {
   "cell_type": "code",
   "execution_count": null,
   "metadata": {},
   "outputs": [],
   "source": []
  },
  {
   "cell_type": "code",
   "execution_count": null,
   "metadata": {},
   "outputs": [],
   "source": []
  },
  {
   "cell_type": "code",
   "execution_count": null,
   "metadata": {},
   "outputs": [],
   "source": []
  },
  {
   "cell_type": "code",
   "execution_count": null,
   "metadata": {},
   "outputs": [],
   "source": []
  },
  {
   "cell_type": "code",
   "execution_count": null,
   "metadata": {},
   "outputs": [],
   "source": []
  },
  {
   "cell_type": "code",
   "execution_count": null,
   "metadata": {},
   "outputs": [],
   "source": []
  },
  {
   "cell_type": "code",
   "execution_count": null,
   "metadata": {},
   "outputs": [],
   "source": []
  },
  {
   "cell_type": "code",
   "execution_count": null,
   "metadata": {},
   "outputs": [],
   "source": []
  },
  {
   "cell_type": "code",
   "execution_count": null,
   "metadata": {},
   "outputs": [],
   "source": []
  },
  {
   "cell_type": "code",
   "execution_count": null,
   "metadata": {},
   "outputs": [],
   "source": []
  },
  {
   "cell_type": "code",
   "execution_count": null,
   "metadata": {},
   "outputs": [],
   "source": []
  },
  {
   "cell_type": "code",
   "execution_count": null,
   "metadata": {},
   "outputs": [],
   "source": []
  },
  {
   "cell_type": "code",
   "execution_count": null,
   "metadata": {},
   "outputs": [],
   "source": []
  },
  {
   "cell_type": "code",
   "execution_count": null,
   "metadata": {},
   "outputs": [],
   "source": []
  },
  {
   "cell_type": "code",
   "execution_count": null,
   "metadata": {},
   "outputs": [],
   "source": []
  },
  {
   "cell_type": "code",
   "execution_count": null,
   "metadata": {},
   "outputs": [],
   "source": []
  },
  {
   "cell_type": "code",
   "execution_count": null,
   "metadata": {},
   "outputs": [],
   "source": []
  },
  {
   "cell_type": "code",
   "execution_count": null,
   "metadata": {},
   "outputs": [],
   "source": []
  },
  {
   "cell_type": "code",
   "execution_count": null,
   "metadata": {},
   "outputs": [],
   "source": []
  },
  {
   "cell_type": "code",
   "execution_count": null,
   "metadata": {},
   "outputs": [],
   "source": []
  }
 ],
 "metadata": {
  "kernelspec": {
   "display_name": "Nantes",
   "language": "python",
   "name": "nantes"
  },
  "language_info": {
   "codemirror_mode": {
    "name": "ipython",
    "version": 3
   },
   "file_extension": ".py",
   "mimetype": "text/x-python",
   "name": "python",
   "nbconvert_exporter": "python",
   "pygments_lexer": "ipython3",
   "version": "3.8.0"
  }
 },
 "nbformat": 4,
 "nbformat_minor": 4
}
